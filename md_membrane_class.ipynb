{
  "cells": [
    {
      "cell_type": "markdown",
      "source": [
        "# Setting up\n",
        "\n",
        "Google Colab lets us access a remote machine to run the protocol rather than our local computer. Each time we start a runtime session we need to install and configure the software to use."
      ],
      "metadata": {
        "id": "V9XCoD8Wgvkc"
      }
    },
    {
      "cell_type": "markdown",
      "source": [
        "\n",
        "## Installing miniconda"
      ],
      "metadata": {
        "id": "IwqdFnWzjySS"
      }
    },
    {
      "cell_type": "code",
      "source": [
        "%%bash\n",
        "\n",
        "wget https://repo.anaconda.com/miniconda/Miniconda3-latest-Linux-x86_64.sh\n",
        "chmod +x Miniconda3-latest-Linux-x86_64.sh\n",
        "./Miniconda3-latest-Linux-x86_64.sh -b -p /usr/local -u"
      ],
      "metadata": {
        "id": "LsxXl-G4K22G"
      },
      "execution_count": null,
      "outputs": []
    },
    {
      "cell_type": "markdown",
      "source": [
        "## Setting up environment\n",
        "\n",
        "There is no need to create a new environmnet as the session is reset every time we log out. However, we need to set the Python version and the packages to be used in the working conda base environment."
      ],
      "metadata": {
        "id": "UYl5EYIBh_nQ"
      }
    },
    {
      "cell_type": "code",
      "source": [
        "%%bash\n",
        "\n",
        "conda install -c conda-forge python=3.9 numpy=1.21 pandas matplotlib pytest ambertools<<EOF\n",
        "y\n",
        "EOF"
      ],
      "metadata": {
        "id": "IrNa2lAkyMRT"
      },
      "execution_count": null,
      "outputs": []
    },
    {
      "cell_type": "markdown",
      "source": [
        "Here, the `AMBERHOME` environment variable, which is required to run all amber-related modules, is not automatically set during `ambertools` installation. Set it manually with `os`."
      ],
      "metadata": {
        "id": "3ziuZ5Ylimgn"
      }
    },
    {
      "cell_type": "code",
      "source": [
        "import os\n",
        "\n",
        "os.environ[ 'AMBERHOME' ] = '/usr/local'"
      ],
      "metadata": {
        "id": "EsExFPuK1_FN"
      },
      "execution_count": null,
      "outputs": []
    },
    {
      "cell_type": "markdown",
      "source": [
        "## Installing GROMACS and FATSLiM"
      ],
      "metadata": {
        "id": "0mKzxDqHjIiE"
      }
    },
    {
      "cell_type": "code",
      "source": [
        "!sudo apt install gromacs"
      ],
      "metadata": {
        "id": "9ulMBvxgRoaV"
      },
      "execution_count": null,
      "outputs": []
    },
    {
      "cell_type": "markdown",
      "source": [
        "Then install FATSLiM. Additionally, test that there are no major errors with the self-test functionality."
      ],
      "metadata": {
        "id": "NH_bpBnxjZq-"
      }
    },
    {
      "cell_type": "code",
      "source": [
        "!pip install fatslim"
      ],
      "metadata": {
        "id": "Bp0I8XuvzKs5"
      },
      "execution_count": null,
      "outputs": []
    },
    {
      "cell_type": "code",
      "source": [
        "!fatslim self-test"
      ],
      "metadata": {
        "id": "sUG0QY_9zbIq"
      },
      "execution_count": null,
      "outputs": []
    },
    {
      "cell_type": "markdown",
      "source": [
        "# Protocol\n",
        "\n",
        "Before you start, clone this repo anywhere you want in your local machine. Here in Colab, you automatically start in the `/content/` directory. Aditionally, upload and unzip the shared_folder.zip file which contains sample data required in some of the steps."
      ],
      "metadata": {
        "id": "Qt14PMn4jmP0"
      }
    },
    {
      "cell_type": "code",
      "source": [
        "!git clone https://github.com/alquin97/md_membrane_class.git"
      ],
      "metadata": {
        "id": "kQCWE2wl03H4"
      },
      "execution_count": null,
      "outputs": []
    },
    {
      "cell_type": "markdown",
      "source": [
        "## Simple membrane system"
      ],
      "metadata": {
        "id": "Anqi6rLrkadM"
      }
    },
    {
      "cell_type": "markdown",
      "source": [
        "### Just POPC\n",
        "\n",
        "This part of the protocol will be done under `just_popc/`:"
      ],
      "metadata": {
        "id": "wuCKHOcLkdb9"
      }
    },
    {
      "cell_type": "code",
      "source": [
        "%cd /content/md_membrane_class/practical/just_popc"
      ],
      "metadata": {
        "id": "mP_rSmtL18Tg"
      },
      "execution_count": null,
      "outputs": []
    },
    {
      "cell_type": "markdown",
      "source": [
        "#### Membrane creation with PACKMOL-Memgen\n",
        "\n",
        "First, create a membrane with just POPC using [PACKMOL-Memgen](https://pubs.acs.org/doi/10.1021/acs.jcim.9b00269). With the following command, we're defining a 75x75 A membrane."
      ],
      "metadata": {
        "id": "91CKZqn-kofU"
      }
    },
    {
      "cell_type": "code",
      "source": [
        "!packmol-memgen --lipids POPC --distxy_fix 75"
      ],
      "metadata": {
        "id": "kd2FNVWE2k9g"
      },
      "execution_count": null,
      "outputs": []
    },
    {
      "cell_type": "markdown",
      "source": [
        "> Note: We are not adding any concentration of ions. Ideally there should be a salt concentration of 0.15M to replicate more accurately the real conditions. However, for the purposes of the tutorial, we're not adding any. Our system is already neutral so it won't necessarily affect the electrostatics.\n",
        "\n",
        "This process will take some minutes. Once it's done, you can check the resulting membrane with VMD or other visualization software such as [PyMOL](https://www.pymol.org) in your local machine."
      ],
      "metadata": {
        "id": "TEfFfVoZk1GF"
      }
    },
    {
      "cell_type": "markdown",
      "source": [
        "#### System topology and transformation to GROMACS\n",
        "\n",
        "Next, we need to obtain to obtain the Amber force field parameters (version 14SB, ff14SB) for our system. This is done with the processing tool `leap` that will output a .prmtop and .inpcrd files provided of a PDB file."
      ],
      "metadata": {
        "id": "YpUnb5yjlHQI"
      }
    },
    {
      "cell_type": "code",
      "source": [
        "!cp ../files/leap.in ."
      ],
      "metadata": {
        "id": "NConH69cSMp2"
      },
      "execution_count": null,
      "outputs": []
    },
    {
      "cell_type": "code",
      "source": [
        "!tleap -f leap.in"
      ],
      "metadata": {
        "id": "H6i7lhT4SUWx"
      },
      "execution_count": null,
      "outputs": []
    },
    {
      "cell_type": "markdown",
      "source": [
        "Recent versions of PACKMOL-Memgen tend to produce errors in GROMACS due to structure clashing. Perform a small minimization of the system with the `sander` module to correct it. Input parameters for `sander` are stated in a `system.sander` file. This process can take some time, you can check the progress in the  `system.sanderout` file."
      ],
      "metadata": {
        "id": "K-zBwlB9lMH4"
      }
    },
    {
      "cell_type": "code",
      "source": [
        "!cp ../files/system.sander ."
      ],
      "metadata": {
        "id": "OSEeSWZxSujx"
      },
      "execution_count": null,
      "outputs": []
    },
    {
      "cell_type": "code",
      "source": [
        "!sander -O -i system.sander -o system.sanderout -p system.prmtop -c system.inpcrd -r system.rst -ref system.inpcrd"
      ],
      "metadata": {
        "id": "g86rQTlXS33j"
      },
      "execution_count": null,
      "outputs": []
    },
    {
      "cell_type": "markdown",
      "source": [
        "At the moment, we have the required parameters to run the system in [Amber](https://ambermd.org/AmberMD.php) (equally valid). However, we are simulating in [GROMACS](https://manual.gromacs.org/), so we need to transform them to a .top and .gro files. This is done using `amb2gro_top_gro.py`. Additionally, output the minimization end coordinates with the `-b` option."
      ],
      "metadata": {
        "id": "dKAArxvOlPj_"
      }
    },
    {
      "cell_type": "code",
      "source": [
        "!amb2gro_top_gro.py -p system.prmtop -c system.rst -t system_GMX.top -g system_GMX.gro -b system_out.pdb"
      ],
      "metadata": {
        "id": "ysnAcFhfT9Sw"
      },
      "execution_count": null,
      "outputs": []
    },
    {
      "cell_type": "markdown",
      "source": [
        "Finally, copy the 'molecular dynamics parameters' files (.mdp) required for the following parts."
      ],
      "metadata": {
        "id": "Kh44_xvplV1d"
      }
    },
    {
      "cell_type": "code",
      "execution_count": null,
      "metadata": {
        "id": "ob0ru08EJ7Qg"
      },
      "outputs": [],
      "source": [
        "!cp -r ../files/mdp ."
      ]
    },
    {
      "cell_type": "markdown",
      "source": [
        "#### Energy minimization\n",
        "\n",
        "We are going to continue with a short minimization (1000 steps), now in GROMACS. Open the file `mdp/min.mdp` in a text editor to check what you are going to do first.\n",
        "\n",
        "Execute `gmx grompp` to generate a portable binary run file (.tpr), which contains the starting structure of your simulation, the molecular topology and all the simulation parameters.\n"
      ],
      "metadata": {
        "id": "MoJtjnJblcCR"
      }
    },
    {
      "cell_type": "code",
      "source": [
        "!gmx grompp -f mdp/min.mdp -r system_GMX.gro -c system_GMX.gro -p system_GMX.top -o system_min.tpr -maxwarn 1"
      ],
      "metadata": {
        "id": "2IdPPve8UTVC"
      },
      "execution_count": null,
      "outputs": []
    },
    {
      "cell_type": "markdown",
      "source": [
        "> Note: Read carefully the NOTES and WARNINGS that are printed during grompp. Usually these are a dead giveaway of wrongdoings that doom your runs to failure.\n",
        "\n",
        "Then, run `gmx mdrun` to perform the actual calculation."
      ],
      "metadata": {
        "id": "XmK5Uc4klh69"
      }
    },
    {
      "cell_type": "code",
      "source": [
        "!gmx mdrun -deffnm system_min -v"
      ],
      "metadata": {
        "id": "JmmgjtFFUXL2"
      },
      "execution_count": null,
      "outputs": []
    },
    {
      "cell_type": "markdown",
      "source": [
        "#### Equilibration\n",
        "\n",
        "We are going to perform a three-step equilibration of our system on a NPT ensemble. For this, we need to add a positional restraints statement in the `system_GMX.top` for the lipids which will be gradually tuned down to reach equilibrium. This is done by including the following lines within the lipids' [ moleculetype ] section (named 'system1') but before the water's [ moleculetype ] section begins (named WAT, which can have its own set of positional restraints).\n",
        "\n",
        "```\n",
        "#ifdef POSRES\n",
        "#include \"posre.itp\"\n",
        "#endif\n",
        "```\n",
        "\n",
        "Thus the `system_GMX.top` file should look something like this.\n",
        "\n",
        "```\n",
        "[ moleculetype ]\n",
        "; Name            nrexcl\n",
        "system1          3\n",
        "\n",
        "...\n",
        "\n",
        "#ifdef POSRES\n",
        "#include \"posre.itp\"\n",
        "#endif\n",
        "\n",
        "[ moleculetype ]\n",
        "; Name            nrexcl\n",
        "WAT          3\n",
        "\n",
        "...\n",
        "```\n",
        "**IMPORTANT: Edit the system_GMX.top locally with a text editor or edit the file with python in a new cell.**\n",
        "\n",
        "The sequential equilibration runs will be executed through the `equi.sh` shell script. Examine the script, it contains four different sections. Figure out what each of them does. Notice also that each equilibration step has its own `equi*.mdp`.\n",
        "\n",
        "> Hint: you can use `vimdiff file1 file2` to compare two files and spot the differences more easily.\n",
        "\n",
        "Once you feel ready, execute the `equi.sh` shell script.\n"
      ],
      "metadata": {
        "id": "ndqkcE7lllFc"
      }
    },
    {
      "cell_type": "code",
      "source": [
        "!chmod +x equi.sh\n",
        "!bash equi.sh"
      ],
      "metadata": {
        "id": "R9nfU9GPVxh_"
      },
      "execution_count": null,
      "outputs": []
    },
    {
      "cell_type": "markdown",
      "source": [
        "**IMPORTANT: Without GPU support, the whole equilibration will take a long while. We are not gonna wait for all the steps to finish. Kill the process with `CTRL-C` and copy the samples files from the `shared_folder`. Then continue with the protocol.**\n",
        "\n"
      ],
      "metadata": {
        "id": "m-ljOyVNmMJq"
      }
    },
    {
      "cell_type": "code",
      "source": [
        "!cp /content/shared_files/just_popc/* ."
      ],
      "metadata": {
        "id": "AAa8W2gRbHgl"
      },
      "execution_count": null,
      "outputs": []
    },
    {
      "cell_type": "markdown",
      "source": [
        "To visualize the time-evolution of the trajectory of the first equilibration step (equi1) use VMD (or any other visualization software).\n",
        "\n",
        "> Note: The .trr file in GROMACS contains the actual trajectory, but it's best to visualize it using the compressed file .xtc\n",
        "\n",
        "We are also going to assess some of the variables of this equilibration step. We can do that using GROMACS' analysis tools such as `gmx energy`. Pick the variables we want to assess by typing the following numbers.\n",
        "\n",
        "`12 14 15 20 21 0`\n",
        "\n"
      ],
      "metadata": {
        "id": "Zz1etvWdmjPd"
      }
    },
    {
      "cell_type": "code",
      "source": [
        "%%bash\n",
        "\n",
        "gmx energy -f system_equi1.edr -o equi1.xvg<<EOF\n",
        "12 14 15 20 21 0\n",
        "EOF"
      ],
      "metadata": {
        "collapsed": true,
        "id": "D8CrEkaubDN6"
      },
      "execution_count": null,
      "outputs": []
    },
    {
      "cell_type": "markdown",
      "source": [
        "This way we are selecting the **total energy of the system**, **temperature**, **pressure**, **density** and **volume**. The final zero exits the prompt. To visualize the file you can either use `xmgrace` or execute the python script provided in this repo."
      ],
      "metadata": {
        "id": "7VIu044Cmp0p"
      }
    },
    {
      "cell_type": "code",
      "source": [
        "!python ../files/plot_xvg.py equi1.xvg"
      ],
      "metadata": {
        "id": "WqmpAWbVbf9j"
      },
      "execution_count": null,
      "outputs": []
    },
    {
      "cell_type": "markdown",
      "source": [
        "It outputs a .png image in the same location where the .xvg file is located. See how the different variables change along time until stabilized."
      ],
      "metadata": {
        "id": "20iDZ8MOnJWt"
      }
    },
    {
      "cell_type": "markdown",
      "source": [
        "#### Production\n",
        "\n",
        "We are ready to start producing the proper simulation. We are going to do a 100 ns long unbiased MD simulation. Again, we execute `gmx grompp` and then `gmx mdrun`."
      ],
      "metadata": {
        "id": "UGeZwwe2nM6B"
      }
    },
    {
      "cell_type": "code",
      "source": [
        "!gmx grompp -f mdp/prod.mdp -r system_equi3.gro -c system_equi3.gro -p system_GMX.top -o system_prod.tpr -n index.ndx -maxwarn 1"
      ],
      "metadata": {
        "collapsed": true,
        "id": "vGwN-AxddAD0"
      },
      "execution_count": null,
      "outputs": []
    },
    {
      "cell_type": "markdown",
      "source": [
        "> Note: See what has changed between the equi3.mdp and prod.mdp files."
      ],
      "metadata": {
        "id": "-_5zKe4MnXO_"
      }
    },
    {
      "cell_type": "code",
      "source": [
        "!gmx mdrun -deffnm system_prod -v"
      ],
      "metadata": {
        "id": "9LiJdvk1ehgm"
      },
      "execution_count": null,
      "outputs": []
    },
    {
      "cell_type": "markdown",
      "source": [
        "**IMPORTANT: Two problems may arise here:**\n",
        "- **1) `gmx grompp` doesn't go through because system_equi3.gro file and system_GMX.top file don't match in atom number (inescapable condition). If you got the shared system_equi3.gro this might be true as the two systems were built slightly different (different PACKMOL-Memgen runs).**\n",
        "- **2) Again, the simulation run takes too long to finish. Proceed with the shared output files.**\n",
        "\n",
        "Once finished, see what the simulation looks like."
      ],
      "metadata": {
        "id": "5MvxGNsrnb_8"
      }
    },
    {
      "cell_type": "markdown",
      "source": [
        "#### Analysis\n",
        "\n",
        "Next, we will do a short analysis of our membrane. The two typical measurements to examine are the **membrane thickness** and the **area per lipid (APL)**. Use [FATSLiM](http://fatslim.github.io/) to analyze membrane simulations. FATSLiM makes use of lipid 'head groups' to calculate these two values, which must be defined in a index file. Use GROMACS to create a new index file with the lipid head groups properly indexed."
      ],
      "metadata": {
        "id": "txFwtaWhnhGa"
      }
    },
    {
      "cell_type": "code",
      "source": [
        "%%bash\n",
        "\n",
        "gmx make_ndx -f system_equi3.gro -o fatslim.ndx<<EOF\n",
        "a P31\n",
        "name 8 headgroups\n",
        "q\n",
        "EOF"
      ],
      "metadata": {
        "collapsed": true,
        "id": "YepE_Qv4fBUz"
      },
      "execution_count": null,
      "outputs": []
    },
    {
      "cell_type": "markdown",
      "source": [
        "> Question: Which atom is the head group of POPC?"
      ],
      "metadata": {
        "id": "ir5q7-aOnlFn"
      }
    },
    {
      "cell_type": "markdown",
      "source": [
        "##### Membrane thickness\n",
        "\n",
        "To determine the membrane thickness run the following command."
      ],
      "metadata": {
        "id": "h_t4HoArnn3y"
      }
    },
    {
      "cell_type": "code",
      "source": [
        "!fatslim thickness -c system_equi3.gro -t system_prod.xtc -n fatslim.ndx --plot-thickness thickness.xvg"
      ],
      "metadata": {
        "id": "MklBEByZfJ8E"
      },
      "execution_count": null,
      "outputs": []
    },
    {
      "cell_type": "markdown",
      "source": [
        "The software will give us both the thickness per leaflet and for the whole membrane. Moreover, with the option `--plot-thickness` we can obtain a plot of the thickness over time. You can again use `xmgrace` or the provided python script to plot the .xvg file."
      ],
      "metadata": {
        "id": "o85Whf8Dnrsc"
      }
    },
    {
      "cell_type": "code",
      "source": [
        "!python ../files/plot_xvg.py thickness.xvg"
      ],
      "metadata": {
        "id": "38dVQm7JfOjY"
      },
      "execution_count": null,
      "outputs": []
    },
    {
      "cell_type": "markdown",
      "source": [
        "##### Area per lipid (APL)\n",
        "\n",
        "The APL is calculated with the following command."
      ],
      "metadata": {
        "id": "ouPGh_8EnvR-"
      }
    },
    {
      "cell_type": "code",
      "source": [
        "!fatslim apl -c system_equi3.gro -t system_prod.xtc -n fatslim.ndx --plot-apl apl.xvg"
      ],
      "metadata": {
        "id": "-63SrsZSfRjp"
      },
      "execution_count": null,
      "outputs": []
    },
    {
      "cell_type": "markdown",
      "source": [
        "\n",
        "And, just like before, the APL per leaflet, for the whole membrane, and a plot over time is generated."
      ],
      "metadata": {
        "id": "-jpQlvqJn6W_"
      }
    },
    {
      "cell_type": "code",
      "source": [
        "!python ../files/plot_xvg.py apl.xvg"
      ],
      "metadata": {
        "id": "KZuVbhT_fWrC"
      },
      "execution_count": null,
      "outputs": []
    },
    {
      "cell_type": "markdown",
      "source": [
        "### POPC+CHL\n",
        "\n",
        "This part of the protocol will be done under `popc+chl/`:"
      ],
      "metadata": {
        "id": "5gRr8jYKoJMQ"
      }
    },
    {
      "cell_type": "code",
      "source": [
        "%cd /content/md_membrane_class/practical/popc+chl/"
      ],
      "metadata": {
        "id": "OSMfx-jxgHgg"
      },
      "execution_count": null,
      "outputs": []
    },
    {
      "cell_type": "markdown",
      "source": [
        "In this case, we are going to simulate a membrane with a ratio of 1:3 cholesterol molecules per POPC. Create the membrane with PACKMOL-Memgen with the apropiate input flags.\n"
      ],
      "metadata": {
        "id": "ENgYVYAOoMFH"
      }
    },
    {
      "cell_type": "code",
      "source": [
        "!packmol-memgen --lipids POPC:CHL1 --ratio 3:1 --distxy_fix 75"
      ],
      "metadata": {
        "collapsed": true,
        "id": "mIoc0pFFgO03"
      },
      "execution_count": null,
      "outputs": []
    },
    {
      "cell_type": "markdown",
      "source": [
        "Visualize the system (in VMD or PyMOL) and spot the cholesterol molecules.\n",
        "\n",
        "> Note: We are gonna skip the system preparation that we did before for the just POPC membrane. If you attempt to run the same preparation protocol for the POPC+CHL membrane, consider that there must be two instances of lipid [ moleculetype ] (one for POPC and one for CHL) in the GROMACS .top file, each with their corresponding positional restraints for the equilibration.\n",
        "\n",
        "In the same shared folder provided before you will find a 100 ns simulation of a similar POPC+CHL membrane system. Repeat the previous analysis to measure the membrane thickness and APL, and compare those to the POPC-only membrane.\n",
        "\n",
        "> Hint: Now there are two molecule types contributing to the head groups."
      ],
      "metadata": {
        "id": "MHxHGkSvoP7j"
      }
    },
    {
      "cell_type": "code",
      "source": [
        "!cp /content/shared_files/popc+chl/* ."
      ],
      "metadata": {
        "id": "kqcwMXLmqbms"
      },
      "execution_count": null,
      "outputs": []
    },
    {
      "cell_type": "code",
      "source": [
        "%%bash\n",
        "\n",
        "gmx make_ndx -f system_equi3.gro -o fatslim.ndx<<EOF\n",
        "r PC | r CHL & a P31 | a O1\n",
        "name 9 headgroups\n",
        "q\n",
        "EOF"
      ],
      "metadata": {
        "collapsed": true,
        "id": "SVB9UBMQoSJj"
      },
      "execution_count": null,
      "outputs": []
    },
    {
      "cell_type": "markdown",
      "source": [
        "> Question: Which atom is the head group of CHL?"
      ],
      "metadata": {
        "id": "ASKFD-JGol7Y"
      }
    },
    {
      "cell_type": "markdown",
      "source": [
        "## Protein-Membrane system\n",
        "\n",
        "This part of the protocol will be done under `membrane_protein/`:"
      ],
      "metadata": {
        "id": "b_0k7SQSoo1i"
      }
    },
    {
      "cell_type": "code",
      "source": [
        "%cd /content/md_membrane_class/practical/membrane_protein/"
      ],
      "metadata": {
        "id": "E9OFB6hYocz1"
      },
      "execution_count": null,
      "outputs": []
    },
    {
      "cell_type": "markdown",
      "source": [
        "### Building the system\n",
        "\n",
        "This is the real deal. We are going to embed a membrane protein in a lipid bilayer. Our membrane protein is a refined structure of the Cannabinoid Receptor 2 (CB2), a class A GPCR that contains 7 characteristic transmembrane helices.\n",
        "\n",
        "Run PACKMOL-Memgen on the provided `protein.pdb` file. Then visualize the system (with VMD or PyMOL).\n"
      ],
      "metadata": {
        "id": "Ps0YrrNDo2cx"
      }
    },
    {
      "cell_type": "code",
      "source": [
        "!packmol-memgen --pdb protein.pdb --lipids POPC:CHL1 --ratio 10:1 \\\n",
        "    --dist 12 --dist_wat 15 --salt --salt_c Na+"
      ],
      "metadata": {
        "id": "rVf7XRBzow6Y"
      },
      "execution_count": null,
      "outputs": []
    },
    {
      "cell_type": "markdown",
      "source": [
        "> Note: Here, the membrane is built 12 A from the protein to the edges of the box in the X and Y axis and 15 A in the Z axis. We have chosen a concentration of salt of 0.15 M (cations and anions can be specified).\n",
        "\n",
        "Again, we are not gonna go over the preparation steps we followed before (because it's gonna take longer than the previous parts). So we are jumping straight to the analysis.\n",
        "\n"
      ],
      "metadata": {
        "id": "_Niq0d_Xp6y5"
      }
    },
    {
      "cell_type": "markdown",
      "source": [
        "### Analysis\n",
        "\n",
        "Copy the 100 ns trajectory of the CB2 receptor embedded in a 10:1 POPC:CHL membrane provided in the shared folder. In this section, we will focus our attention to values concerning the protein rather than the lipids.\n"
      ],
      "metadata": {
        "id": "JuZrKbSrqE_J"
      }
    },
    {
      "cell_type": "code",
      "source": [
        "!cp /content/shared_files/membrane_protein/* ."
      ],
      "metadata": {
        "id": "UUt5AItjqMTb"
      },
      "execution_count": null,
      "outputs": []
    },
    {
      "cell_type": "markdown",
      "source": [
        "#### RMSD\n",
        "\n",
        "First, measure the RMSD of the C-alpha atoms of the receptor along the trajectory. This can be easliy done with GROMACS. GROMACS will prompt us 1) which group to align the system coordinates to and 2) which group to compute the RMSD for. Select the `C-alpha` group in both cases (type `3` and press `Enter`). This way GROMACS will automatically align all the coordinates and calculate the RMSD for the C-alpha atoms of our protein. Once done, plot the .xvg file.\n"
      ],
      "metadata": {
        "id": "W4oGZ6npqH4E"
      }
    },
    {
      "cell_type": "code",
      "source": [
        "%%bash\n",
        "\n",
        "gmx rms -f system_prod.xtc -s system_equi6.gro -o rmsd.xvg<<EOF\n",
        "3\n",
        "3\n",
        "EOF"
      ],
      "metadata": {
        "id": "C8kt4ExHp9Rj"
      },
      "execution_count": null,
      "outputs": []
    },
    {
      "cell_type": "code",
      "source": [
        "!python ../files/plot_xvg.py rmsd.xvg"
      ],
      "metadata": {
        "id": "YUoiXLG2q9Ay"
      },
      "execution_count": null,
      "outputs": []
    },
    {
      "cell_type": "markdown",
      "source": [
        "#### RMSF\n",
        "\n",
        "Now, calculate the RMSF of the structure throughout the simulation. This will help us determine how stable our transmembrane alpha-helices are or whether there is some specially labile part of the protein. Select `C-alpha` as well. Plot the results.\n"
      ],
      "metadata": {
        "id": "1WDIEcADrB_h"
      }
    },
    {
      "cell_type": "code",
      "source": [
        "!python ../files/plot_xvg.py rmsf.xvg"
      ],
      "metadata": {
        "id": "2Ya06wO-q_PR"
      },
      "execution_count": null,
      "outputs": []
    },
    {
      "cell_type": "markdown",
      "source": [
        "#### Secondary Structure analysis\n",
        "\n",
        "Last, we are going to perform a simple secondary structure analysis to further assess the stability of the transmembrane helices.\n"
      ],
      "metadata": {
        "id": "o1U_3HgDrJQ_"
      }
    },
    {
      "cell_type": "code",
      "source": [
        "!gmx dssp -f system_prod.xtc -s system_equi6.gro -o dssp.dat"
      ],
      "metadata": {
        "id": "AGFRREUrrLf6"
      },
      "execution_count": null,
      "outputs": []
    },
    {
      "cell_type": "markdown",
      "source": [
        "GROMACS knows, based on the `index.ndx`, what the atoms of the Protein are. The output `dssp.dat` contains the secondary structure prediction per residue (each character) per frame (each line). Each letter stands for:\n",
        "- H = α-helix\n",
        "- B = residue in isolated β-bridge\n",
        "- E = extended strand, participates in β ladder\n",
        "- G = 3-helix (310 helix)\n",
        "- I = 5 helix (π-helix)\n",
        "- T = hydrogen bonded turn\n",
        "- S = bend\n",
        "- ~ = unknown\n",
        "\n",
        "Plot the output file. You can use this trashy script.\n"
      ],
      "metadata": {
        "id": "v6jKe0-HrRfb"
      }
    },
    {
      "cell_type": "code",
      "source": [
        "!python ../files/plot_dssp.py dssp.dat"
      ],
      "metadata": {
        "id": "uL6zXaRyrOv3"
      },
      "execution_count": null,
      "outputs": []
    },
    {
      "cell_type": "markdown",
      "source": [
        "> Note: This will return a `dssp.png` with a heatmap, where each color represents a letter (secondary structure), the sequence in the X-axis and each frame in the Y-axis."
      ],
      "metadata": {
        "id": "SuMxKknArWe6"
      }
    }
  ],
  "metadata": {
    "colab": {
      "provenance": [],
      "toc_visible": true
    },
    "kernelspec": {
      "display_name": "Python 3",
      "name": "python3"
    },
    "language_info": {
      "name": "python"
    }
  },
  "nbformat": 4,
  "nbformat_minor": 0
}
